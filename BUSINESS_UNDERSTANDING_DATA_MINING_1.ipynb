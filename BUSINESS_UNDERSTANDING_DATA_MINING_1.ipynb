{
  "nbformat": 4,
  "nbformat_minor": 0,
  "metadata": {
    "colab": {
      "provenance": [],
      "authorship_tag": "ABX9TyPelXSNN/mhIrJCAA5a7dcB",
      "include_colab_link": true
    },
    "kernelspec": {
      "name": "python3",
      "display_name": "Python 3"
    },
    "language_info": {
      "name": "python"
    }
  },
  "cells": [
    {
      "cell_type": "markdown",
      "metadata": {
        "id": "view-in-github",
        "colab_type": "text"
      },
      "source": [
        "<a href=\"https://colab.research.google.com/github/SandrinaAulia/MiniProject-DataMining/blob/main/BUSINESS_UNDERSTANDING_DATA_MINING_1.ipynb\" target=\"_parent\"><img src=\"https://colab.research.google.com/assets/colab-badge.svg\" alt=\"Open In Colab\"/></a>"
      ]
    },
    {
      "cell_type": "markdown",
      "source": [
        "# **Analisis & Strategi Membangun Pengalaman Pengguna Sebagai Faktor Kunci Untuk Meningkatkan Unduhan Aplikasi pada Mobile App Store**"
      ],
      "metadata": {
        "id": "Qij0J0W0iZeJ"
      }
    },
    {
      "cell_type": "markdown",
      "source": [
        "## **Business Understanding**"
      ],
      "metadata": {
        "id": "fK6eWYfuike2"
      }
    },
    {
      "cell_type": "markdown",
      "source": [
        "### **Business Objective**\n",
        "\n",
        "Tujuan utama dari analisis ini adalah memberikan pedoman bagi pengembang aplikasi untuk memperhatikan strategi dan analisis yang relevan guna meningkatkan pertumbuhan dan retensi pengguna di masa depan, serta memastikan aplikasi mereka dapat ditemukan dengan mudah oleh lebih banyak orang. Selain itu, dengan menerapkan analisis yang tepat terhadap data Mobile App Store atau toko aplikasi seluler tersebut diharapkan hasil analisis ini dapat memberikan wawasan bagi pengembang aplikasi dan pemangku kepentingan lainnya dalam upaya meningkatkan kualitas aplikasi, mengidentifikasi tren, memperluas pangsa pasar dan merencanakan langkah-langkah yang diperlukan untuk mengoptimalkan pertumbuhan dan keberhasilan aplikasi mereka di toko aplikasi seluler (Mobile App Store).\n",
        "\n",
        "\n",
        "\n",
        "\n",
        "\n"
      ],
      "metadata": {
        "id": "8grLAhWelFm9"
      }
    },
    {
      "cell_type": "markdown",
      "source": [
        "### **Assess Situation**\n",
        "\n",
        "Dengan lingkungan yang terus berkembang dan pertumbuhan pesat jumlah aplikasi saat ini menambah tingkat persaingan yang tinggi di pasar. Para pengembang perlu memperhatikan berbagai faktor kunci untuk mengamankan kesuksesan aplikasi mereka di masa depan. Pemahaman yang mendalam tentang tren pasar, termasuk preferensi pengguna, aplikasi yang paling diminati, perkiraan harga yang sesuai serta genre yang paling diinginkan oleh pengguna dan lain sebagainya juga harus diperhatikan. Selanjutnya, pengetahuan tentang pesaing di pasar sangat penting. Para pengembang perlu menganalisis aplikasi serupa yang sudah ada di pasar, mengevaluasi rating serta ulasan pengguna dan faktor eksternal lainnya yang mempengaruhi perkembangan teknologi."
      ],
      "metadata": {
        "id": "qbR6j49_kfXB"
      }
    },
    {
      "cell_type": "markdown",
      "source": [
        "### **Data Mining Goals**\n",
        "\n",
        "Tujuan dari analisis data ini adalah untuk mengidentifikasi faktor-faktor yang mempengaruhi perilaku unduhan dan penggunaan aplikasi seluler dalam toko aplikasi seluler (Mobile App Store), serta mengetahui faktor-faktor mana yang paling berpengaruh terhadap keberhasilan aplikasi tersebut menggunakan pemodelan prediktif. Analisis data mining juga bertujuan untuk mengidentifikasi pola dalam perilaku pengguna, seperti size atau ukuran, price atau harga, dan preferensi genre aplikasi. Selain itu, tujuan utamanya adalah memprediksi potensi kesuksesan suatu aplikasi dalam mencapai unduhan yang tinggi dan retensi pengguna yang baik di masa depan. Dengan memahami pola dan faktor-faktor yang mempengaruhi perilaku pengguna, pengembang aplikasi dapat menganalisis dan menyusun strategi pemasaran yang lebih efektif serta mengambil keputusan yang lebih baik dalam mengembangkan dan memasarkan aplikasi mereka di toko aplikasi seluler iOS (Mobile App Store)."
      ],
      "metadata": {
        "id": "BBXuETl9kjX3"
      }
    },
    {
      "cell_type": "markdown",
      "source": [
        "### **Project Plan**\n",
        "\n",
        "Rencana proyek ini akan dimulai dengan pengumpulan data yang relevan terkait aplikasi seluler dari berbagai sumber yang tersedia, termasuk data dari Mobile App Store atau toko aplikasi seluler yang sudah ada sebelumnya. Setelah itu, dataset akan disaring dan dilakukan preprocessing data untuk memastikan kualitas dan konsistensi dataset yang akan digunakan dalam analisis. Langkah selanjutnya adalah melakukan eksplorasi data untuk memahami pola-pola yang ada dalam perilaku unduhan dan penggunaan aplikasi seluler (Mobile App), serta mengidentifikasi hubungan antar variabel yang relevan. Kemudian, dilakukan analisis data mining menggunakan pemodelan prediktif untuk mengidentifikasi faktor-faktor yang mempengaruhi keberhasilan aplikasi seluler, seperti ukuran aplikasi, harga, genre, ulasan dan lain sebagainya. Hasil dari analisis ini akan digunakan untuk menyusun strategi yang tepat guna meningkatkan pertumbuhan dan retensi pengguna di masa depan, serta memastikan aplikasi dapat ditemukan dengan mudah oleh lebih banyak orang. Dengan demikian, rencana proyek ini bertujuan untuk memberikan wawasan yang berharga bagi pengembang aplikasi dan pemangku kepentingan lainnya dalam upaya mengoptimalkan keberhasilan aplikasi mereka di toko aplikasi seluler (Mobile App Store)."
      ],
      "metadata": {
        "id": "A3w1pJ-Ukl8e"
      }
    }
  ]
}